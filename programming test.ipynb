{
 "cells": [
  {
   "cell_type": "markdown",
   "metadata": {},
   "source": [
    "# Take-home Programming Test\n"
   ]
  },
  {
   "cell_type": "markdown",
   "metadata": {},
   "source": [
    "# Question 1: Employees\n",
    "\n",
    "To make my question less ambiguous, I downloaded a dataset from kaggle which looks very similar to the table given in the question. Let's try and implement the solution on the dataframe itself.\n",
    "\n",
    "First, we'll clean the dataframe to make it look like the table in the question. See dataframe employees below.\n",
    "\n",
    "I changed the Employee ID to the index since it seems like the manager ID refers back to the index and not the original six digit employee ID. This makes it easier to match the Employee IDs and Manager IDs"
   ]
  },
  {
   "cell_type": "code",
   "execution_count": null,
   "metadata": {},
   "outputs": [
    {
     "data": {
      "text/html": [
       "<div>\n",
       "<style scoped>\n",
       "    .dataframe tbody tr th:only-of-type {\n",
       "        vertical-align: middle;\n",
       "    }\n",
       "\n",
       "    .dataframe tbody tr th {\n",
       "        vertical-align: top;\n",
       "    }\n",
       "\n",
       "    .dataframe thead th {\n",
       "        text-align: right;\n",
       "    }\n",
       "</style>\n",
       "<table border=\"1\" class=\"dataframe\">\n",
       "  <thead>\n",
       "    <tr style=\"text-align: right;\">\n",
       "      <th></th>\n",
       "      <th>Employee_Name</th>\n",
       "      <th>EmpID</th>\n",
       "      <th>Salary</th>\n",
       "      <th>ManagerID</th>\n",
       "    </tr>\n",
       "  </thead>\n",
       "  <tbody>\n",
       "    <tr>\n",
       "      <th>0</th>\n",
       "      <td>Adinolfi, Wilson  K</td>\n",
       "      <td>0</td>\n",
       "      <td>62506</td>\n",
       "      <td>22.0</td>\n",
       "    </tr>\n",
       "    <tr>\n",
       "      <th>1</th>\n",
       "      <td>Ait Sidi, Karthikeyan</td>\n",
       "      <td>1</td>\n",
       "      <td>104437</td>\n",
       "      <td>4.0</td>\n",
       "    </tr>\n",
       "    <tr>\n",
       "      <th>2</th>\n",
       "      <td>Akinkuolie, Sarah</td>\n",
       "      <td>2</td>\n",
       "      <td>64955</td>\n",
       "      <td>20.0</td>\n",
       "    </tr>\n",
       "    <tr>\n",
       "      <th>3</th>\n",
       "      <td>Alagbe,Trina</td>\n",
       "      <td>3</td>\n",
       "      <td>64991</td>\n",
       "      <td>16.0</td>\n",
       "    </tr>\n",
       "    <tr>\n",
       "      <th>4</th>\n",
       "      <td>Anderson, Carol</td>\n",
       "      <td>4</td>\n",
       "      <td>50825</td>\n",
       "      <td>39.0</td>\n",
       "    </tr>\n",
       "    <tr>\n",
       "      <th>...</th>\n",
       "      <td>...</td>\n",
       "      <td>...</td>\n",
       "      <td>...</td>\n",
       "      <td>...</td>\n",
       "    </tr>\n",
       "    <tr>\n",
       "      <th>306</th>\n",
       "      <td>Woodson, Jason</td>\n",
       "      <td>306</td>\n",
       "      <td>65893</td>\n",
       "      <td>20.0</td>\n",
       "    </tr>\n",
       "    <tr>\n",
       "      <th>307</th>\n",
       "      <td>Ybarra, Catherine</td>\n",
       "      <td>307</td>\n",
       "      <td>48513</td>\n",
       "      <td>12.0</td>\n",
       "    </tr>\n",
       "    <tr>\n",
       "      <th>308</th>\n",
       "      <td>Zamora, Jennifer</td>\n",
       "      <td>308</td>\n",
       "      <td>220450</td>\n",
       "      <td>2.0</td>\n",
       "    </tr>\n",
       "    <tr>\n",
       "      <th>309</th>\n",
       "      <td>Zhou, Julia</td>\n",
       "      <td>309</td>\n",
       "      <td>89292</td>\n",
       "      <td>4.0</td>\n",
       "    </tr>\n",
       "    <tr>\n",
       "      <th>310</th>\n",
       "      <td>Zima, Colleen</td>\n",
       "      <td>310</td>\n",
       "      <td>45046</td>\n",
       "      <td>14.0</td>\n",
       "    </tr>\n",
       "  </tbody>\n",
       "</table>\n",
       "<p>311 rows × 4 columns</p>\n",
       "</div>"
      ],
      "text/plain": [
       "                Employee_Name  EmpID  Salary  ManagerID\n",
       "0         Adinolfi, Wilson  K      0   62506       22.0\n",
       "1    Ait Sidi, Karthikeyan         1  104437        4.0\n",
       "2           Akinkuolie, Sarah      2   64955       20.0\n",
       "3                Alagbe,Trina      3   64991       16.0\n",
       "4            Anderson, Carol       4   50825       39.0\n",
       "..                        ...    ...     ...        ...\n",
       "306            Woodson, Jason    306   65893       20.0\n",
       "307        Ybarra, Catherine     307   48513       12.0\n",
       "308          Zamora, Jennifer    308  220450        2.0\n",
       "309               Zhou, Julia    309   89292        4.0\n",
       "310             Zima, Colleen    310   45046       14.0\n",
       "\n",
       "[311 rows x 4 columns]"
      ]
     },
     "execution_count": 1,
     "metadata": {},
     "output_type": "execute_result"
    }
   ],
   "source": [
    "import pandas as pd\n",
    "import numpy as np\n",
    "\n",
    "employees = pd.read_csv(\"HRDataset_v14.csv\", delimiter=',')\n",
    "employees = employees[['Employee_Name', 'EmpID', 'Salary', 'ManagerID']]\n",
    "employees['EmpID'] = employees.index\n",
    "\n",
    "employees\n"
   ]
  },
  {
   "cell_type": "markdown",
   "metadata": {},
   "source": [
    "I duplicated the dataframe for managers, and merge the two by ManagerID. This makes it easier to make direct comparisons between Employees and their corresponding Managers."
   ]
  },
  {
   "cell_type": "code",
   "execution_count": null,
   "metadata": {},
   "outputs": [
    {
     "data": {
      "text/html": [
       "<div>\n",
       "<style scoped>\n",
       "    .dataframe tbody tr th:only-of-type {\n",
       "        vertical-align: middle;\n",
       "    }\n",
       "\n",
       "    .dataframe tbody tr th {\n",
       "        vertical-align: top;\n",
       "    }\n",
       "\n",
       "    .dataframe thead th {\n",
       "        text-align: right;\n",
       "    }\n",
       "</style>\n",
       "<table border=\"1\" class=\"dataframe\">\n",
       "  <thead>\n",
       "    <tr style=\"text-align: right;\">\n",
       "      <th></th>\n",
       "      <th>Employee_Name</th>\n",
       "      <th>EmpID</th>\n",
       "      <th>Salary</th>\n",
       "      <th>ManagerID</th>\n",
       "      <th>Manager_Name</th>\n",
       "      <th>Manager_Salary</th>\n",
       "    </tr>\n",
       "  </thead>\n",
       "  <tbody>\n",
       "    <tr>\n",
       "      <th>0</th>\n",
       "      <td>Adinolfi, Wilson  K</td>\n",
       "      <td>0</td>\n",
       "      <td>62506</td>\n",
       "      <td>22.0</td>\n",
       "      <td>Billis, Helen</td>\n",
       "      <td>62910</td>\n",
       "    </tr>\n",
       "    <tr>\n",
       "      <th>1</th>\n",
       "      <td>Barton, Nader</td>\n",
       "      <td>14</td>\n",
       "      <td>52505</td>\n",
       "      <td>22.0</td>\n",
       "      <td>Billis, Helen</td>\n",
       "      <td>62910</td>\n",
       "    </tr>\n",
       "    <tr>\n",
       "      <th>2</th>\n",
       "      <td>Blount, Dianna</td>\n",
       "      <td>23</td>\n",
       "      <td>66441</td>\n",
       "      <td>22.0</td>\n",
       "      <td>Billis, Helen</td>\n",
       "      <td>62910</td>\n",
       "    </tr>\n",
       "    <tr>\n",
       "      <th>3</th>\n",
       "      <td>Chace, Beatrice</td>\n",
       "      <td>41</td>\n",
       "      <td>61656</td>\n",
       "      <td>22.0</td>\n",
       "      <td>Billis, Helen</td>\n",
       "      <td>62910</td>\n",
       "    </tr>\n",
       "    <tr>\n",
       "      <th>4</th>\n",
       "      <td>Crimmings,   Jean</td>\n",
       "      <td>58</td>\n",
       "      <td>56149</td>\n",
       "      <td>22.0</td>\n",
       "      <td>Billis, Helen</td>\n",
       "      <td>62910</td>\n",
       "    </tr>\n",
       "    <tr>\n",
       "      <th>...</th>\n",
       "      <td>...</td>\n",
       "      <td>...</td>\n",
       "      <td>...</td>\n",
       "      <td>...</td>\n",
       "      <td>...</td>\n",
       "      <td>...</td>\n",
       "    </tr>\n",
       "    <tr>\n",
       "      <th>298</th>\n",
       "      <td>Tannen, Biff</td>\n",
       "      <td>275</td>\n",
       "      <td>90100</td>\n",
       "      <td>13.0</td>\n",
       "      <td>Barone, Francesco  A</td>\n",
       "      <td>58709</td>\n",
       "    </tr>\n",
       "    <tr>\n",
       "      <th>299</th>\n",
       "      <td>Wang, Charlie</td>\n",
       "      <td>298</td>\n",
       "      <td>84903</td>\n",
       "      <td>13.0</td>\n",
       "      <td>Barone, Francesco  A</td>\n",
       "      <td>58709</td>\n",
       "    </tr>\n",
       "    <tr>\n",
       "      <th>300</th>\n",
       "      <td>Foster-Baker, Amy</td>\n",
       "      <td>97</td>\n",
       "      <td>99351</td>\n",
       "      <td>9.0</td>\n",
       "      <td>Bacong, Alejandro</td>\n",
       "      <td>50178</td>\n",
       "    </tr>\n",
       "    <tr>\n",
       "      <th>301</th>\n",
       "      <td>King, Janet</td>\n",
       "      <td>150</td>\n",
       "      <td>250000</td>\n",
       "      <td>9.0</td>\n",
       "      <td>Bacong, Alejandro</td>\n",
       "      <td>50178</td>\n",
       "    </tr>\n",
       "    <tr>\n",
       "      <th>302</th>\n",
       "      <td>Homberger, Adrienne  J</td>\n",
       "      <td>129</td>\n",
       "      <td>63478</td>\n",
       "      <td>30.0</td>\n",
       "      <td>Buccheri, Joseph</td>\n",
       "      <td>65288</td>\n",
       "    </tr>\n",
       "  </tbody>\n",
       "</table>\n",
       "<p>303 rows × 6 columns</p>\n",
       "</div>"
      ],
      "text/plain": [
       "              Employee_Name  EmpID  Salary  ManagerID          Manager_Name  \\\n",
       "0       Adinolfi, Wilson  K      0   62506       22.0         Billis, Helen   \n",
       "1             Barton, Nader     14   52505       22.0         Billis, Helen   \n",
       "2            Blount, Dianna     23   66441       22.0         Billis, Helen   \n",
       "3          Chace, Beatrice      41   61656       22.0         Billis, Helen   \n",
       "4         Crimmings,   Jean     58   56149       22.0         Billis, Helen   \n",
       "..                      ...    ...     ...        ...                   ...   \n",
       "298            Tannen, Biff    275   90100       13.0  Barone, Francesco  A   \n",
       "299           Wang, Charlie    298   84903       13.0  Barone, Francesco  A   \n",
       "300       Foster-Baker, Amy     97   99351        9.0    Bacong, Alejandro    \n",
       "301             King, Janet    150  250000        9.0    Bacong, Alejandro    \n",
       "302  Homberger, Adrienne  J    129   63478       30.0    Buccheri, Joseph     \n",
       "\n",
       "     Manager_Salary  \n",
       "0             62910  \n",
       "1             62910  \n",
       "2             62910  \n",
       "3             62910  \n",
       "4             62910  \n",
       "..              ...  \n",
       "298           58709  \n",
       "299           58709  \n",
       "300           50178  \n",
       "301           50178  \n",
       "302           65288  \n",
       "\n",
       "[303 rows x 6 columns]"
      ]
     },
     "execution_count": 2,
     "metadata": {},
     "output_type": "execute_result"
    }
   ],
   "source": [
    "\n",
    "managers = employees[['Employee_Name', 'EmpID', 'Salary']]\n",
    "managers.columns = ['Manager_Name', 'ManagerID', 'Manager_Salary']\n",
    "\n",
    "employees = pd.merge(employees, managers, on = ['ManagerID'])\n",
    "employees"
   ]
  },
  {
   "cell_type": "markdown",
   "metadata": {},
   "source": [
    "**a. Give the name of employees, whose salaries are greater than their immediate manager’s**\n",
    "\n",
    "Since I've already merged the dataframe as above, I can make a direct comparison between the Employee Salary and Manager Salary. If the Employee Salary is greater than the Manager salary, I print the Employee Name. I've converted the names to a list"
   ]
  },
  {
   "cell_type": "code",
   "execution_count": null,
   "metadata": {},
   "outputs": [
    {
     "name": "stdout",
     "output_type": "stream",
     "text": [
      "['Blount, Dianna', 'Lundy, Susan', 'Moumanil, Maliki ', 'Sloan, Constance', 'Sullivan, Timothy', 'Ait Sidi, Karthikeyan   ', 'Barbossa, Hector', 'Becker, Renee', 'Booth, Frank', 'Carr, Claudia  N', 'Costello, Frank', 'Goble, Taisha', 'Horton, Jayne', 'Johnson, Noelle ', 'Pearson, Randall', 'Petrowsky, Thelma', 'Roby, Lori ', 'Roehrich, Bianca', 'Salter, Jason', 'Simard, Kramer', 'Voldemort, Lord', 'Zhou, Julia', 'Akinkuolie, Sarah', 'Bugali, Josephine ', 'Cole, Spencer', 'Davis, Daniel', 'Eaton, Marianne', 'Gosciminski, Phylicia  ', 'Latif, Mohammed', 'Leach, Dallas', 'Mckenna, Sandy', 'Monterro, Luisa', 'Myers, Michael', \"O'hare, Lynn\", 'Robertson, Peter', 'Rossetti, Bruno', 'Veera, Abdellah ', 'Woodson, Jason', 'Faller, Megan ', 'Lunquist, Lisa', 'Tejeda, Lenora ', 'Anderson, Linda  ', 'Bernstein, Sean', 'Burke, Joelle', 'Chivukula, Enola', 'Desimone, Carl ', 'Fernandes, Nilson  ', 'Fitzpatrick, Michael  J', 'Girifalco, Evelyn', 'Harrison, Kara', 'Huynh, Ming', 'MacLennan, Samuel', 'Mancuso, Karen', 'Pelletier, Ermine', 'Robinson, Alain  ', 'Shields, Seffi', 'Theamstern, Sophia', 'Trzeciak, Cybil', 'Wilber, Barry', 'Andreola, Colby', 'Carabbio, Judith', 'Del Bosque, Keyla', 'Exantus, Susan', 'Martin, Sandra', 'Patronick, Lucas', 'Saada, Adell', 'Szabo, Andrew', 'True, Edward', 'Athwal, Sam', 'Biden, Lowan  M', 'Burkett, Benjamin ', 'Cierpiszewski, Caroline  ', 'Dunne, Amy', 'Foreman, Tanya', 'Hudson, Jane', 'Jeannite, Tayana', \"Carthy, B'rigit\", 'Peters, Lauren', 'Robinson, Cherly', 'Smith, Sade', 'Walker, Roger', 'Wilkes, Annie', 'Williams, Jacquelyn  ', 'Cross, Noah', 'Daniele, Ann  ', 'Dolan, Linda', 'Goeth, Amon', 'Gonzalez, Maria', 'Lajiri,  Jyoti', 'Soze, Keyser', 'Tredinnick, Neville ', 'Turpin, Jumil', 'Warfield, Sarah', 'Baczenski, Rachael  ', 'Brill, Donna', 'Close, Phil', 'Cockel, James', 'Good, Susan', 'Jackson, Maryellen', 'Langford, Lindsey', 'Maurice, Shana', 'Monkfish, Erasumus', 'Nguyen, Lei-Ming', 'Roberson, May', 'Rose, Ashley  ', 'Squatrito, Kristen', 'Trang, Mei', 'Wolk, Hang  T', 'Boutwell, Bonalyn', 'Bozzi, Charles', 'Candie, Calvin', 'Corleone, Michael', 'Corleone, Vito', 'Dunn, Amy  ', 'Houlihan, Debra', 'Immediato, Walter', 'Landa, Hans', 'LeBlanc, Brandon  R', 'Liebig, Ketsia', 'Miller, Brannon', 'Peterson, Ebonee  ', 'Quinn, Sean', 'Spirea, Kelley', 'Vega, Vincent', 'Wallace, Courtney  E', 'Zamora, Jennifer', 'Bunbury, Jessica', 'Carter, Michelle ', 'Delarge, Alex', 'Dietrich, Jenna  ', 'Gill, Whitney  ', 'Guilianno, Mike', 'Hitchcock, Alfred', 'Kreuger, Freddy', 'Leruth, Giovanni', 'Ozark, Travis', 'Ren, Kylo', 'Strong, Caitrin', 'Cady, Max ', 'Champaigne, Brian', 'Dougall, Eric', 'Foss, Jason', 'Monroe, Peter', 'Roup,Simon', 'Ruiz, Ricardo', 'Chigurh, Anton', 'Driver, Elle', 'Forrest, Alex', 'Fraval, Maruk ', 'Khemmich, Bartholemew', 'Daneault, Lynn', 'Kampew, Donysha', 'Smith, John', 'DeVito, Tommy', 'Gruber, Hans', 'Le, Binh', 'Navathe, Kurt', 'Rachael, Maggie', 'Roper, Katie', 'Tannen, Biff', 'Wang, Charlie', 'Foster-Baker, Amy', 'King, Janet']\n"
     ]
    }
   ],
   "source": [
    "names=employees[employees['Salary']>employees['Manager_Salary']]['Employee_Name']\n",
    "\n",
    "print(list(names))"
   ]
  },
  {
   "cell_type": "markdown",
   "metadata": {},
   "source": [
    "**b. What is the average salary of employees who do not manage anyone? In the sample above, that would be John, Mike, Joe and Dan, since they do not have anyone reporting to them**\n",
    "\n",
    "My solution for this is slightly convoluted. Here is what I did in steps:\n",
    "\n",
    "* Define a function uniq: which removes duplicate values from a list. We use this to remove duplicates after creating a list of managerIDs directly from the dataframe.\n",
    "* We create a list ranging from 0 to 302, or a list of all the employee IDs, check if manager ID is in this list and then remove manager IDs. This gives a list of employee IDs for employees who are not managers.\n",
    "* The notmanager list makes it easy to access Salaries for employees who are not managers, append it to a list and compute the average salary."
   ]
  },
  {
   "cell_type": "code",
   "execution_count": null,
   "metadata": {},
   "outputs": [
    {
     "name": "stdout",
     "output_type": "stream",
     "text": [
      "The average Salary of employees who are not managers is:  69383.95390070922\n"
     ]
    }
   ],
   "source": [
    "def uniq(input):\n",
    "  output = []\n",
    "  for x in input:\n",
    "    if x not in output:\n",
    "      output.append(x)\n",
    "  return output\n",
    "\n",
    "\n",
    "managerlist = employees['ManagerID'].tolist()\n",
    "managerlist = uniq(managerlist)\n",
    "\n",
    "#notmanager = list((range(0,302)))\n",
    "notmanager = employees['EmpID'].tolist()\n",
    "for id in managerlist:\n",
    "  if id in notmanager:\n",
    "    notmanager.remove(id)\n",
    "\n",
    "notmanagersal = []\n",
    "for index, row in employees.iterrows():\n",
    "  if row['EmpID'] in notmanager:\n",
    "    notmanagersal.append(row['Salary'])\n",
    "\n",
    "avgSalary = np.mean(notmanagersal)\n",
    "\n",
    "print('The average Salary of employees who are not managers is: ', avgSalary)\n",
    "\n"
   ]
  },
  {
   "cell_type": "markdown",
   "metadata": {},
   "source": [
    "# Question 2\n",
    "\n",
    "**Write a function ‘exists’ which takes a variable symbol v and returns whether v is defined**\n",
    "\n",
    "what these symbols could be:\n",
    "* integer\n",
    "* float\n",
    "* text\n",
    "* boolean\n",
    "* tuple\n",
    "* list\n",
    "* dict\n",
    "\n",
    "the function below does a simple check for the type of the variable. If the type is from the list above, it returns the string defined. If not, it returns undefined."
   ]
  },
  {
   "cell_type": "code",
   "execution_count": null,
   "metadata": {},
   "outputs": [
    {
     "data": {
      "text/plain": [
       "'defined'"
      ]
     },
     "execution_count": 5,
     "metadata": {},
     "output_type": "execute_result"
    }
   ],
   "source": [
    "def exists(v):\n",
    "    if type(v) in [int, float, str, bool, tuple, list, dict]:\n",
    "        return 'defined'\n",
    "    else:\n",
    "        return 'undefined'\n",
    "\n",
    "exists(5.6)"
   ]
  },
  {
   "cell_type": "markdown",
   "metadata": {},
   "source": [
    "But this is an 'exhaustive' method. This will not work with other data structures nor self created data structures, for example: something like a linked list or a dataframe"
   ]
  },
  {
   "cell_type": "markdown",
   "metadata": {},
   "source": [
    "# Question 3: Pascal's Triangle\n",
    "\n",
    "The best way to understand Pascal's triangle is by Binomial Theorem: i.e. the coefficients of $(a+b)^n$ gives the $n^{th}$ row of the triangle.\n",
    "\n",
    "From binomial theorem, $$(a+b)^n = \\sum_{r=1}^{n} {n\\choose r} a^r b^{n-r}$$\n",
    "\n",
    "Thus the coefficients are $n\\choose r$ for $r = 1,2, \\dots n.$\n",
    "\n",
    "Let's create a function nCr which gives $n\\choose r = \\frac{n!}{r! (n-r)!}$. Since negative factorial is not defined, $n - r \\geq 0$ or $n \\geq r$. Thus, we raise a value error if $n \\leq r$.\n",
    "\n",
    "next we define pascal which takes in an integer n, or the number of rows of the pascal's triangle we would like to print. we iterate through $1$ to $(n+1)$ because for the $n$ layers, we have $(n+1)$ rows. Similarly, for the $k^{th}$ row, we have $k+1$ elements.\n",
    "\n",
    "For each row k, we print ${k\\choose r}$ with $r = 0,1,2, \\dots k$. This gives us the $k^{th}$ row of the Pascal's Triangle.\n",
    "\n",
    "print a blank after each row iteration to move to the next line after each $'k'$\n",
    "\n",
    "Attempt 1"
   ]
  },
  {
   "cell_type": "code",
   "execution_count": null,
   "metadata": {},
   "outputs": [
    {
     "name": "stdout",
     "output_type": "stream",
     "text": [
      "1 \n",
      "1 1 \n",
      "1 2 1 \n",
      "1 3 3 1 \n",
      "1 4 6 4 1 \n",
      "1 5 10 10 5 1 \n"
     ]
    }
   ],
   "source": [
    "from math import factorial\n",
    "\n",
    "def nCr(n,r):\n",
    "    if n < r:\n",
    "        return ('Value Error. n cannot be lesser than r')\n",
    "    else:\n",
    "        return int(factorial(n) / (factorial(r)*factorial(n-r)))\n",
    "\n",
    "\n",
    "def pascal(n):\n",
    "    for k in range(n+1):\n",
    "        for r in range(k+1):\n",
    "        #print(k)\n",
    "            print(nCr(k,r), end = \" \")\n",
    "        print()\n",
    "\n",
    "pascal(5)"
   ]
  },
  {
   "cell_type": "markdown",
   "metadata": {},
   "source": [
    "# Question 4: Portfolio Optimisation, VaR\n",
    "\n",
    "**Assume have the following portfolio as of 2016/01/01:** \n",
    "\n",
    "\n",
    "\n",
    "**AAPL.O 15%**\n",
    "\n",
    "**IBM.N 20%**\n",
    "\n",
    "**GOOG.O 20%** \n",
    "\n",
    "**BP.N 15%** \n",
    "\n",
    "**XOM.N 10%**\n",
    "\n",
    "**COST.O 15%** \n",
    "\n",
    "**GS.N 5%**\n",
    "\n",
    "\n",
    "**a. Using historical daily returns (Yahoo/Google Finance or any other market data source), calculate VaR95% and CVaR95% of the portfolio as of 2016/12/31**"
   ]
  },
  {
   "cell_type": "code",
   "execution_count": null,
   "metadata": {},
   "outputs": [],
   "source": [
    "import pandas as pd\n",
    "import pandas_datareader as dr"
   ]
  },
  {
   "cell_type": "markdown",
   "metadata": {},
   "source": [
    "turns out yahoo finance doesn't read extensions and i'm not sure how to bypass this so I'm going to input the main ticker first: i.e. instead of AAPL.O, i'll use AAPL for now. I've created a dataframe $dfPrice$ which stores the Adjusted Closing price of the tickers over the year 2016. I've dropped all NA values to reduce errors."
   ]
  },
  {
   "cell_type": "code",
   "execution_count": null,
   "metadata": {},
   "outputs": [
    {
     "data": {
      "text/html": [
       "<div>\n",
       "<style scoped>\n",
       "    .dataframe tbody tr th:only-of-type {\n",
       "        vertical-align: middle;\n",
       "    }\n",
       "\n",
       "    .dataframe tbody tr th {\n",
       "        vertical-align: top;\n",
       "    }\n",
       "\n",
       "    .dataframe thead th {\n",
       "        text-align: right;\n",
       "    }\n",
       "</style>\n",
       "<table border=\"1\" class=\"dataframe\">\n",
       "  <thead>\n",
       "    <tr style=\"text-align: right;\">\n",
       "      <th></th>\n",
       "      <th>AAPL</th>\n",
       "      <th>IBM</th>\n",
       "      <th>GOOG</th>\n",
       "      <th>BP</th>\n",
       "      <th>XOM</th>\n",
       "      <th>COST</th>\n",
       "      <th>GS</th>\n",
       "    </tr>\n",
       "    <tr>\n",
       "      <th>Date</th>\n",
       "      <th></th>\n",
       "      <th></th>\n",
       "      <th></th>\n",
       "      <th></th>\n",
       "      <th></th>\n",
       "      <th></th>\n",
       "      <th></th>\n",
       "    </tr>\n",
       "  </thead>\n",
       "  <tbody>\n",
       "    <tr>\n",
       "      <th>2015-12-31</th>\n",
       "      <td>24.266081</td>\n",
       "      <td>106.805664</td>\n",
       "      <td>758.880005</td>\n",
       "      <td>21.524876</td>\n",
       "      <td>58.759171</td>\n",
       "      <td>142.766663</td>\n",
       "      <td>164.204666</td>\n",
       "    </tr>\n",
       "    <tr>\n",
       "      <th>2016-01-04</th>\n",
       "      <td>24.286833</td>\n",
       "      <td>105.509605</td>\n",
       "      <td>741.840027</td>\n",
       "      <td>21.387156</td>\n",
       "      <td>58.389812</td>\n",
       "      <td>141.034027</td>\n",
       "      <td>161.389420</td>\n",
       "    </tr>\n",
       "    <tr>\n",
       "      <th>2016-01-05</th>\n",
       "      <td>23.678219</td>\n",
       "      <td>105.432014</td>\n",
       "      <td>742.580017</td>\n",
       "      <td>21.297642</td>\n",
       "      <td>58.887341</td>\n",
       "      <td>141.378769</td>\n",
       "      <td>158.610535</td>\n",
       "    </tr>\n",
       "    <tr>\n",
       "      <th>2016-01-06</th>\n",
       "      <td>23.214844</td>\n",
       "      <td>104.904251</td>\n",
       "      <td>743.619995</td>\n",
       "      <td>20.863838</td>\n",
       "      <td>58.397354</td>\n",
       "      <td>140.070480</td>\n",
       "      <td>154.738495</td>\n",
       "    </tr>\n",
       "    <tr>\n",
       "      <th>2016-01-07</th>\n",
       "      <td>22.235069</td>\n",
       "      <td>103.111481</td>\n",
       "      <td>726.390015</td>\n",
       "      <td>20.264778</td>\n",
       "      <td>57.462631</td>\n",
       "      <td>136.861542</td>\n",
       "      <td>149.982651</td>\n",
       "    </tr>\n",
       "  </tbody>\n",
       "</table>\n",
       "</div>"
      ],
      "text/plain": [
       "                 AAPL         IBM        GOOG         BP        XOM  \\\n",
       "Date                                                                  \n",
       "2015-12-31  24.266081  106.805664  758.880005  21.524876  58.759171   \n",
       "2016-01-04  24.286833  105.509605  741.840027  21.387156  58.389812   \n",
       "2016-01-05  23.678219  105.432014  742.580017  21.297642  58.887341   \n",
       "2016-01-06  23.214844  104.904251  743.619995  20.863838  58.397354   \n",
       "2016-01-07  22.235069  103.111481  726.390015  20.264778  57.462631   \n",
       "\n",
       "                  COST          GS  \n",
       "Date                                \n",
       "2015-12-31  142.766663  164.204666  \n",
       "2016-01-04  141.034027  161.389420  \n",
       "2016-01-05  141.378769  158.610535  \n",
       "2016-01-06  140.070480  154.738495  \n",
       "2016-01-07  136.861542  149.982651  "
      ]
     },
     "execution_count": 8,
     "metadata": {},
     "output_type": "execute_result"
    }
   ],
   "source": [
    "tickers = ['AAPL', 'IBM', 'GOOG', 'BP', 'XOM', 'COST', 'GS']\n",
    "l = len(tickers)\n",
    "priceData = []\n",
    "\n",
    "for ticker in range(l):\n",
    "    prices = dr.DataReader(tickers[ticker], start = '2016-01-01', end = '2016-12-31', data_source = 'yahoo')\n",
    "    priceData.append(prices.assign(ticker=ticker)[['Adj Close']])\n",
    "dfPrice = pd.concat(priceData, axis = 1)\n",
    "dfPrice.columns = tickers\n",
    "dfPrice.dropna()\n",
    "dfPrice.head()"
   ]
  },
  {
   "cell_type": "markdown",
   "metadata": {},
   "source": [
    "I create another dataframe $dfReturn$ which stores the daily historical returns. "
   ]
  },
  {
   "cell_type": "code",
   "execution_count": null,
   "metadata": {},
   "outputs": [
    {
     "data": {
      "text/html": [
       "<div>\n",
       "<style scoped>\n",
       "    .dataframe tbody tr th:only-of-type {\n",
       "        vertical-align: middle;\n",
       "    }\n",
       "\n",
       "    .dataframe tbody tr th {\n",
       "        vertical-align: top;\n",
       "    }\n",
       "\n",
       "    .dataframe thead th {\n",
       "        text-align: right;\n",
       "    }\n",
       "</style>\n",
       "<table border=\"1\" class=\"dataframe\">\n",
       "  <thead>\n",
       "    <tr style=\"text-align: right;\">\n",
       "      <th></th>\n",
       "      <th>AAPL</th>\n",
       "      <th>IBM</th>\n",
       "      <th>GOOG</th>\n",
       "      <th>BP</th>\n",
       "      <th>XOM</th>\n",
       "      <th>COST</th>\n",
       "      <th>GS</th>\n",
       "    </tr>\n",
       "    <tr>\n",
       "      <th>Date</th>\n",
       "      <th></th>\n",
       "      <th></th>\n",
       "      <th></th>\n",
       "      <th></th>\n",
       "      <th></th>\n",
       "      <th></th>\n",
       "      <th></th>\n",
       "    </tr>\n",
       "  </thead>\n",
       "  <tbody>\n",
       "    <tr>\n",
       "      <th>2015-12-31</th>\n",
       "      <td>NaN</td>\n",
       "      <td>NaN</td>\n",
       "      <td>NaN</td>\n",
       "      <td>NaN</td>\n",
       "      <td>NaN</td>\n",
       "      <td>NaN</td>\n",
       "      <td>NaN</td>\n",
       "    </tr>\n",
       "    <tr>\n",
       "      <th>2016-01-04</th>\n",
       "      <td>0.000855</td>\n",
       "      <td>-0.012135</td>\n",
       "      <td>-0.022454</td>\n",
       "      <td>-0.006398</td>\n",
       "      <td>-0.006286</td>\n",
       "      <td>-0.012136</td>\n",
       "      <td>-0.017145</td>\n",
       "    </tr>\n",
       "    <tr>\n",
       "      <th>2016-01-05</th>\n",
       "      <td>-0.025059</td>\n",
       "      <td>-0.000735</td>\n",
       "      <td>0.000998</td>\n",
       "      <td>-0.004185</td>\n",
       "      <td>0.008521</td>\n",
       "      <td>0.002444</td>\n",
       "      <td>-0.017219</td>\n",
       "    </tr>\n",
       "    <tr>\n",
       "      <th>2016-01-06</th>\n",
       "      <td>-0.019570</td>\n",
       "      <td>-0.005006</td>\n",
       "      <td>0.001400</td>\n",
       "      <td>-0.020369</td>\n",
       "      <td>-0.008321</td>\n",
       "      <td>-0.009254</td>\n",
       "      <td>-0.024412</td>\n",
       "    </tr>\n",
       "    <tr>\n",
       "      <th>2016-01-07</th>\n",
       "      <td>-0.042205</td>\n",
       "      <td>-0.017090</td>\n",
       "      <td>-0.023170</td>\n",
       "      <td>-0.028713</td>\n",
       "      <td>-0.016006</td>\n",
       "      <td>-0.022909</td>\n",
       "      <td>-0.030735</td>\n",
       "    </tr>\n",
       "  </tbody>\n",
       "</table>\n",
       "</div>"
      ],
      "text/plain": [
       "                AAPL       IBM      GOOG        BP       XOM      COST  \\\n",
       "Date                                                                     \n",
       "2015-12-31       NaN       NaN       NaN       NaN       NaN       NaN   \n",
       "2016-01-04  0.000855 -0.012135 -0.022454 -0.006398 -0.006286 -0.012136   \n",
       "2016-01-05 -0.025059 -0.000735  0.000998 -0.004185  0.008521  0.002444   \n",
       "2016-01-06 -0.019570 -0.005006  0.001400 -0.020369 -0.008321 -0.009254   \n",
       "2016-01-07 -0.042205 -0.017090 -0.023170 -0.028713 -0.016006 -0.022909   \n",
       "\n",
       "                  GS  \n",
       "Date                  \n",
       "2015-12-31       NaN  \n",
       "2016-01-04 -0.017145  \n",
       "2016-01-05 -0.017219  \n",
       "2016-01-06 -0.024412  \n",
       "2016-01-07 -0.030735  "
      ]
     },
     "execution_count": 9,
     "metadata": {},
     "output_type": "execute_result"
    }
   ],
   "source": [
    "dfReturn = dfPrice.pct_change()\n",
    "dfReturn.dropna()\n",
    "dfReturn.head()"
   ]
  },
  {
   "cell_type": "code",
   "execution_count": null,
   "metadata": {},
   "outputs": [],
   "source": [
    "import matplotlib.pyplot as plt"
   ]
  },
  {
   "cell_type": "markdown",
   "metadata": {},
   "source": [
    "we know that portfolioReturn is just the weighted average of individual returns:\n",
    "\n",
    "$$R_p = \\Sigma_{i=1}^N w_i R_i$$\n",
    "\n",
    "Here I take a dot product of weights and the dataframe $dfReturn$ to get the portfolio return $R_p$ or $portfolioReturn$"
   ]
  },
  {
   "cell_type": "code",
   "execution_count": null,
   "metadata": {},
   "outputs": [
    {
     "data": {
      "text/plain": [
       "Text(0.5,0,'time')"
      ]
     },
     "execution_count": 11,
     "metadata": {},
     "output_type": "execute_result"
    },
    {
     "data": {
      "image/png": "[encoded data removed]",
      "text/plain": [
       "<Figure size 432x288 with 1 Axes>"
      ]
     },
     "metadata": {
      "needs_background": "light"
     },
     "output_type": "display_data"
    }
   ],
   "source": [
    "weights = [0.15, 0.2, 0.2, 0.15, 0.1, 0.15, 0.05]\n",
    "\n",
    "portfolioReturn = (weights * dfReturn).sum(axis = 1)\n",
    "plt.plot(portfolioReturn)\n",
    "plt.ylabel('returns')\n",
    "plt.xlabel('time')\n"
   ]
  },
  {
   "cell_type": "markdown",
   "metadata": {},
   "source": [
    "Value at Risk is the maximum expected loss at a given time period with a given confidence.\n",
    "So 95% VaR is the worst possible loss after excluding 5% of the worst possible losses.\n",
    "\n",
    "Conditional Value at Risk takes into account the 5% worst possible losses and conditions the expected return on them, i.e. we calculate VaR with more 'information'.\n",
    "\n",
    "Here, we can just use an inbuilt function in the package empyrical to give us both VaR and CVaR, where we input portfolioReturn as returns and $$cutoff = 1 - conf. level$$ which is the 95% case is just 5% or 0.05"
   ]
  },
  {
   "cell_type": "code",
   "execution_count": 12,
   "metadata": {},
   "outputs": [
    {
     "name": "stdout",
     "output_type": "stream",
     "text": [
      "The 95% VaR for the given portfolio is:  -0.014\n"
     ]
    }
   ],
   "source": [
    "import empyrical\n",
    "from empyrical import stats\n",
    "\n",
    "print('The 95% VaR for the given portfolio is: ', round(empyrical.stats.value_at_risk(portfolioReturn, 0.05),3))\n"
   ]
  },
  {
   "cell_type": "code",
   "execution_count": 13,
   "metadata": {},
   "outputs": [
    {
     "name": "stdout",
     "output_type": "stream",
     "text": [
      "The 95% CVaR for the given portfolio is:  -0.021\n"
     ]
    }
   ],
   "source": [
    "print('The 95% CVaR for the given portfolio is: ',round(empyrical.stats.conditional_value_at_risk(portfolioReturn, 0.05),3))"
   ]
  },
  {
   "cell_type": "markdown",
   "metadata": {},
   "source": [
    "**Parametric Approach**\n",
    "\n",
    "Assume that the returns are normally (gaussian) distributed, estimate the mean and volatility of distribution.\n",
    "\n",
    "For $\\alpha$ quantile, $z_{\\alpha}$, we have \n",
    "$$P \\left( \\frac{R_p - \\mu_p}{\\sigma_p} \\leq z_{\\alpha} \\right) = \\alpha$$\n",
    "\n",
    "or\n",
    "\n",
    "$$P\\left( R_p \\leq \\mu_p + z_{\\alpha}\\sigma_p \\right) = \\alpha$$\n",
    "\n",
    "Thus, $$VaR_{\\alpha} = \\mu_p + z_{\\alpha}\\sigma_p$$"
   ]
  },
  {
   "cell_type": "code",
   "execution_count": 68,
   "metadata": {},
   "outputs": [
    {
     "name": "stdout",
     "output_type": "stream",
     "text": [
      "-0.014\n"
     ]
    }
   ],
   "source": [
    "import numpy as np\n",
    "from scipy.stats import norm\n",
    "\n",
    "alpha = 0.05\n",
    "mu = portfolioReturn.mean()\n",
    "sigma = portfolioReturn.std()\n",
    "\n",
    "z_alpha = norm.ppf(alpha)\n",
    "\n",
    "var = mu + z_alpha*sigma \n",
    "print(round(var, 3))"
   ]
  },
  {
   "cell_type": "markdown",
   "metadata": {},
   "source": [
    "and for conditional VaR, \n",
    "\n",
    "we have $CVaR = E \\left[ R | R \\leq VaR \\right]$\n",
    "\n",
    "which gives:\n",
    "\n",
    "$$CVaR = \\frac{\\int_{-\\infty}^{VaR} x f_R(x) dx}{F_R(VaR)}$$\n",
    "\n",
    "where $f_R(x)$ is the probability density of portfolio returns $R$ and $F_R(x)$ is the Cumulative probability density of portfolio \n",
    "returns $R$.\n",
    "\n",
    "In other words, this is just the average of all returns that are lower than VaR"
   ]
  },
  {
   "cell_type": "code",
   "execution_count": 82,
   "metadata": {},
   "outputs": [
    {
     "name": "stdout",
     "output_type": "stream",
     "text": [
      "-0.0\n"
     ]
    },
    {
     "data": {
      "text/plain": [
       "-0.0"
      ]
     },
     "execution_count": 82,
     "metadata": {},
     "output_type": "execute_result"
    }
   ],
   "source": [
    "#cvar = portfolioReturn[portfolioReturn <= var].mean() (historic)\n",
    "\n",
    "import math\n",
    "from scipy.integrate import quad\n",
    "\n",
    "def normal_exp(x):\n",
    "    value = x*norm.pdf(x,mu,sigma)\n",
    "    return value\n",
    "\n",
    "\n",
    "cvar2 = quad(lambda x: (x/(sigma*math.sqrt(2*math.pi))*math.e**(0.5*(x-mu)/sigma)), -10**10, var)[0] / alpha\n",
    "print(cvar2)\n",
    "cvar = quad(normal_exp, -10**10, var)[0]/alpha\n",
    "cvar"
   ]
  },
  {
   "cell_type": "markdown",
   "metadata": {},
   "source": [
    "**Assume you can change weights, allow shorting but no leverage (i.e. sum of weights equal 100%), and rebalance monthly. What is the optimal portfolio holding by end of each month till end of 2016.**\n",
    "\n",
    "Here, we take a 3 month lookback period and calculate optimal weights for each lookback period using pyPortfolioOpt's efficient frontier\n",
    "\n",
    "I created a new $dfPrice$ with prices starting from 1st October 2015 until 31st December 2016"
   ]
  },
  {
   "cell_type": "code",
   "execution_count": 16,
   "metadata": {},
   "outputs": [
    {
     "data": {
      "text/html": [
       "<div>\n",
       "<style scoped>\n",
       "    .dataframe tbody tr th:only-of-type {\n",
       "        vertical-align: middle;\n",
       "    }\n",
       "\n",
       "    .dataframe tbody tr th {\n",
       "        vertical-align: top;\n",
       "    }\n",
       "\n",
       "    .dataframe thead th {\n",
       "        text-align: right;\n",
       "    }\n",
       "</style>\n",
       "<table border=\"1\" class=\"dataframe\">\n",
       "  <thead>\n",
       "    <tr style=\"text-align: right;\">\n",
       "      <th></th>\n",
       "      <th>AAPL</th>\n",
       "      <th>IBM</th>\n",
       "      <th>GOOG</th>\n",
       "      <th>BP</th>\n",
       "      <th>XOM</th>\n",
       "      <th>COST</th>\n",
       "      <th>GS</th>\n",
       "    </tr>\n",
       "    <tr>\n",
       "      <th>Date</th>\n",
       "      <th></th>\n",
       "      <th></th>\n",
       "      <th></th>\n",
       "      <th></th>\n",
       "      <th></th>\n",
       "      <th></th>\n",
       "      <th></th>\n",
       "    </tr>\n",
       "  </thead>\n",
       "  <tbody>\n",
       "    <tr>\n",
       "      <th>2015-09-30</th>\n",
       "      <td>25.319597</td>\n",
       "      <td>111.464394</td>\n",
       "      <td>608.419983</td>\n",
       "      <td>20.703743</td>\n",
       "      <td>55.561127</td>\n",
       "      <td>127.471008</td>\n",
       "      <td>157.769699</td>\n",
       "    </tr>\n",
       "    <tr>\n",
       "      <th>2015-10-01</th>\n",
       "      <td>25.154316</td>\n",
       "      <td>110.403358</td>\n",
       "      <td>611.289978</td>\n",
       "      <td>20.974733</td>\n",
       "      <td>55.344414</td>\n",
       "      <td>127.462204</td>\n",
       "      <td>159.821747</td>\n",
       "    </tr>\n",
       "    <tr>\n",
       "      <th>2015-10-02</th>\n",
       "      <td>25.337959</td>\n",
       "      <td>111.164551</td>\n",
       "      <td>626.909973</td>\n",
       "      <td>22.031597</td>\n",
       "      <td>56.704479</td>\n",
       "      <td>128.608429</td>\n",
       "      <td>160.720612</td>\n",
       "    </tr>\n",
       "    <tr>\n",
       "      <th>2015-10-05</th>\n",
       "      <td>25.429783</td>\n",
       "      <td>114.593704</td>\n",
       "      <td>641.469971</td>\n",
       "      <td>22.688751</td>\n",
       "      <td>57.399467</td>\n",
       "      <td>130.557068</td>\n",
       "      <td>164.071045</td>\n",
       "    </tr>\n",
       "    <tr>\n",
       "      <th>2015-10-06</th>\n",
       "      <td>25.551449</td>\n",
       "      <td>114.393806</td>\n",
       "      <td>645.440002</td>\n",
       "      <td>23.244289</td>\n",
       "      <td>58.206535</td>\n",
       "      <td>130.856827</td>\n",
       "      <td>163.726028</td>\n",
       "    </tr>\n",
       "    <tr>\n",
       "      <th>...</th>\n",
       "      <td>...</td>\n",
       "      <td>...</td>\n",
       "      <td>...</td>\n",
       "      <td>...</td>\n",
       "      <td>...</td>\n",
       "      <td>...</td>\n",
       "      <td>...</td>\n",
       "    </tr>\n",
       "    <tr>\n",
       "      <th>2016-12-23</th>\n",
       "      <td>27.459557</td>\n",
       "      <td>134.312378</td>\n",
       "      <td>789.909973</td>\n",
       "      <td>27.488420</td>\n",
       "      <td>70.792923</td>\n",
       "      <td>144.924774</td>\n",
       "      <td>222.956390</td>\n",
       "    </tr>\n",
       "    <tr>\n",
       "      <th>2016-12-27</th>\n",
       "      <td>27.633949</td>\n",
       "      <td>134.658798</td>\n",
       "      <td>791.549988</td>\n",
       "      <td>27.555244</td>\n",
       "      <td>70.824150</td>\n",
       "      <td>144.897934</td>\n",
       "      <td>223.502258</td>\n",
       "    </tr>\n",
       "    <tr>\n",
       "      <th>2016-12-28</th>\n",
       "      <td>27.516117</td>\n",
       "      <td>133.893402</td>\n",
       "      <td>785.049988</td>\n",
       "      <td>27.659191</td>\n",
       "      <td>70.472946</td>\n",
       "      <td>143.967987</td>\n",
       "      <td>222.660309</td>\n",
       "    </tr>\n",
       "    <tr>\n",
       "      <th>2016-12-29</th>\n",
       "      <td>27.509048</td>\n",
       "      <td>134.223770</td>\n",
       "      <td>782.789978</td>\n",
       "      <td>27.770575</td>\n",
       "      <td>70.511978</td>\n",
       "      <td>144.075287</td>\n",
       "      <td>220.374969</td>\n",
       "    </tr>\n",
       "    <tr>\n",
       "      <th>2016-12-30</th>\n",
       "      <td>27.294590</td>\n",
       "      <td>133.732269</td>\n",
       "      <td>771.820007</td>\n",
       "      <td>27.755726</td>\n",
       "      <td>70.441727</td>\n",
       "      <td>143.163269</td>\n",
       "      <td>221.550034</td>\n",
       "    </tr>\n",
       "  </tbody>\n",
       "</table>\n",
       "<p>317 rows × 7 columns</p>\n",
       "</div>"
      ],
      "text/plain": [
       "                 AAPL         IBM        GOOG         BP        XOM  \\\n",
       "Date                                                                  \n",
       "2015-09-30  25.319597  111.464394  608.419983  20.703743  55.561127   \n",
       "2015-10-01  25.154316  110.403358  611.289978  20.974733  55.344414   \n",
       "2015-10-02  25.337959  111.164551  626.909973  22.031597  56.704479   \n",
       "2015-10-05  25.429783  114.593704  641.469971  22.688751  57.399467   \n",
       "2015-10-06  25.551449  114.393806  645.440002  23.244289  58.206535   \n",
       "...               ...         ...         ...        ...        ...   \n",
       "2016-12-23  27.459557  134.312378  789.909973  27.488420  70.792923   \n",
       "2016-12-27  27.633949  134.658798  791.549988  27.555244  70.824150   \n",
       "2016-12-28  27.516117  133.893402  785.049988  27.659191  70.472946   \n",
       "2016-12-29  27.509048  134.223770  782.789978  27.770575  70.511978   \n",
       "2016-12-30  27.294590  133.732269  771.820007  27.755726  70.441727   \n",
       "\n",
       "                  COST          GS  \n",
       "Date                                \n",
       "2015-09-30  127.471008  157.769699  \n",
       "2015-10-01  127.462204  159.821747  \n",
       "2015-10-02  128.608429  160.720612  \n",
       "2015-10-05  130.557068  164.071045  \n",
       "2015-10-06  130.856827  163.726028  \n",
       "...                ...         ...  \n",
       "2016-12-23  144.924774  222.956390  \n",
       "2016-12-27  144.897934  223.502258  \n",
       "2016-12-28  143.967987  222.660309  \n",
       "2016-12-29  144.075287  220.374969  \n",
       "2016-12-30  143.163269  221.550034  \n",
       "\n",
       "[317 rows x 7 columns]"
      ]
     },
     "execution_count": 16,
     "metadata": {},
     "output_type": "execute_result"
    }
   ],
   "source": [
    "priceData = []\n",
    "\n",
    "for ticker in range(l):\n",
    "    prices = dr.DataReader(tickers[ticker], start = '2015-10-01', end = '2016-12-31', data_source = 'yahoo')\n",
    "    priceData.append(prices.assign(ticker=ticker)[['Adj Close']])\n",
    "dfPrice = pd.concat(priceData, axis = 1)\n",
    "dfPrice.columns = tickers\n",
    "dfPrice.dropna()\n",
    "dfPrice"
   ]
  },
  {
   "cell_type": "markdown",
   "metadata": {},
   "source": [
    "To get my rolling lookback period, I use $relativedelta$ from $dateutil$. This makes it intuitive to handle dates, otherwise I'll have to handle different days for different months and all those sorts of problems which gets complicated.\n",
    "I set start to the 1st Oct 2015, or the second index for $dfPrice$, and a 'last' start date as the 1st of 2 months prior to the month of the last date ( if my last date in the dataframe is 31 Dec 2016, I want my last start date to be 1st October, 2016). \n",
    "\n",
    "Now its intuitive for me to make a while loop over start dates with a gap of 1 month, until I hit the last start date.\n",
    "the end date is set to start date + 3 months using $relativedelta$ once again.\n",
    "\n",
    "Then I use the pyPortfolioOpt package to generate an efficient frontier from historical returns and volatility, with weight bounds between (-1,1) to account for allowing short selling and not allowing leverage. I find optimal weights for each ticker that maximise the sharpe ratio (or maximise return and minimise risk).\n",
    "\n",
    "The output for $ef.clean_weights()$ is an ordered dict. However, It would be nicer if the output for us would be a dataframe with new weights for each ticker at the start of every month every month.\n",
    "\n",
    "Since there is an inbuilt function to convert a dictionary to dataframe, I first convert my ordered dictionary into a dictionary with keys as end dates and values as the list of weights. Note that these are in the same order as the list $tickers$ we defined initially. \n",
    "\n",
    "Once i've iterated over all 3 month lookback periods, My $dictWeight$ has a list of weights associated with each end date key.\n",
    "\n",
    "Now I can just convert this to a dataframe to make it visually easy to see which ticker has what optimal weight at the start dates."
   ]
  },
  {
   "cell_type": "code",
   "execution_count": 17,
   "metadata": {},
   "outputs": [
    {
     "name": "stdout",
     "output_type": "stream",
     "text": [
      "Optimal Weights by Month\n"
     ]
    },
    {
     "data": {
      "text/html": [
       "<div>\n",
       "<style scoped>\n",
       "    .dataframe tbody tr th:only-of-type {\n",
       "        vertical-align: middle;\n",
       "    }\n",
       "\n",
       "    .dataframe tbody tr th {\n",
       "        vertical-align: top;\n",
       "    }\n",
       "\n",
       "    .dataframe thead th {\n",
       "        text-align: right;\n",
       "    }\n",
       "</style>\n",
       "<table border=\"1\" class=\"dataframe\">\n",
       "  <thead>\n",
       "    <tr style=\"text-align: right;\">\n",
       "      <th></th>\n",
       "      <th>AAPL</th>\n",
       "      <th>IBM</th>\n",
       "      <th>GOOG</th>\n",
       "      <th>BP</th>\n",
       "      <th>XOM</th>\n",
       "      <th>COST</th>\n",
       "      <th>GS</th>\n",
       "    </tr>\n",
       "  </thead>\n",
       "  <tbody>\n",
       "    <tr>\n",
       "      <th>2016-01-01</th>\n",
       "      <td>-0.49729</td>\n",
       "      <td>-0.64849</td>\n",
       "      <td>1.00000</td>\n",
       "      <td>0.16213</td>\n",
       "      <td>0.41461</td>\n",
       "      <td>0.91110</td>\n",
       "      <td>-0.34207</td>\n",
       "    </tr>\n",
       "    <tr>\n",
       "      <th>2016-02-01</th>\n",
       "      <td>-0.78130</td>\n",
       "      <td>0.04778</td>\n",
       "      <td>1.00000</td>\n",
       "      <td>0.05771</td>\n",
       "      <td>0.42619</td>\n",
       "      <td>1.00000</td>\n",
       "      <td>-0.75039</td>\n",
       "    </tr>\n",
       "    <tr>\n",
       "      <th>2016-03-01</th>\n",
       "      <td>-0.87663</td>\n",
       "      <td>1.00000</td>\n",
       "      <td>0.81273</td>\n",
       "      <td>-0.39556</td>\n",
       "      <td>1.00000</td>\n",
       "      <td>0.45946</td>\n",
       "      <td>-1.00000</td>\n",
       "    </tr>\n",
       "    <tr>\n",
       "      <th>2016-04-01</th>\n",
       "      <td>0.35389</td>\n",
       "      <td>1.00000</td>\n",
       "      <td>0.28787</td>\n",
       "      <td>-0.41112</td>\n",
       "      <td>0.60326</td>\n",
       "      <td>-0.19286</td>\n",
       "      <td>-0.64105</td>\n",
       "    </tr>\n",
       "    <tr>\n",
       "      <th>2016-05-01</th>\n",
       "      <td>-0.24285</td>\n",
       "      <td>0.33612</td>\n",
       "      <td>0.06259</td>\n",
       "      <td>-0.24565</td>\n",
       "      <td>1.00000</td>\n",
       "      <td>0.06842</td>\n",
       "      <td>0.02137</td>\n",
       "    </tr>\n",
       "    <tr>\n",
       "      <th>2016-06-01</th>\n",
       "      <td>-0.07387</td>\n",
       "      <td>0.49547</td>\n",
       "      <td>-0.16240</td>\n",
       "      <td>-0.22200</td>\n",
       "      <td>0.92188</td>\n",
       "      <td>0.06578</td>\n",
       "      <td>-0.02485</td>\n",
       "    </tr>\n",
       "    <tr>\n",
       "      <th>2016-07-01</th>\n",
       "      <td>-0.16697</td>\n",
       "      <td>-0.03947</td>\n",
       "      <td>0.12911</td>\n",
       "      <td>0.66803</td>\n",
       "      <td>1.00000</td>\n",
       "      <td>0.09178</td>\n",
       "      <td>-0.68248</td>\n",
       "    </tr>\n",
       "    <tr>\n",
       "      <th>2016-08-01</th>\n",
       "      <td>0.35078</td>\n",
       "      <td>1.00000</td>\n",
       "      <td>0.24036</td>\n",
       "      <td>-0.04651</td>\n",
       "      <td>-0.19460</td>\n",
       "      <td>0.37543</td>\n",
       "      <td>-0.72546</td>\n",
       "    </tr>\n",
       "    <tr>\n",
       "      <th>2016-09-01</th>\n",
       "      <td>0.76264</td>\n",
       "      <td>0.31519</td>\n",
       "      <td>0.15581</td>\n",
       "      <td>0.81235</td>\n",
       "      <td>-1.00000</td>\n",
       "      <td>0.32931</td>\n",
       "      <td>-0.37530</td>\n",
       "    </tr>\n",
       "    <tr>\n",
       "      <th>2016-10-01</th>\n",
       "      <td>0.72538</td>\n",
       "      <td>-0.04491</td>\n",
       "      <td>1.00000</td>\n",
       "      <td>0.15327</td>\n",
       "      <td>-0.64138</td>\n",
       "      <td>-0.58480</td>\n",
       "      <td>0.39245</td>\n",
       "    </tr>\n",
       "    <tr>\n",
       "      <th>2016-11-01</th>\n",
       "      <td>0.74912</td>\n",
       "      <td>-0.50140</td>\n",
       "      <td>0.48797</td>\n",
       "      <td>0.29337</td>\n",
       "      <td>-0.02906</td>\n",
       "      <td>-1.00000</td>\n",
       "      <td>1.00000</td>\n",
       "    </tr>\n",
       "    <tr>\n",
       "      <th>2016-12-01</th>\n",
       "      <td>0.54806</td>\n",
       "      <td>0.09741</td>\n",
       "      <td>0.02336</td>\n",
       "      <td>-0.16875</td>\n",
       "      <td>-0.14582</td>\n",
       "      <td>-0.35425</td>\n",
       "      <td>1.00000</td>\n",
       "    </tr>\n",
       "  </tbody>\n",
       "</table>\n",
       "</div>"
      ],
      "text/plain": [
       "               AAPL      IBM     GOOG       BP      XOM     COST       GS\n",
       "2016-01-01 -0.49729 -0.64849  1.00000  0.16213  0.41461  0.91110 -0.34207\n",
       "2016-02-01 -0.78130  0.04778  1.00000  0.05771  0.42619  1.00000 -0.75039\n",
       "2016-03-01 -0.87663  1.00000  0.81273 -0.39556  1.00000  0.45946 -1.00000\n",
       "2016-04-01  0.35389  1.00000  0.28787 -0.41112  0.60326 -0.19286 -0.64105\n",
       "2016-05-01 -0.24285  0.33612  0.06259 -0.24565  1.00000  0.06842  0.02137\n",
       "2016-06-01 -0.07387  0.49547 -0.16240 -0.22200  0.92188  0.06578 -0.02485\n",
       "2016-07-01 -0.16697 -0.03947  0.12911  0.66803  1.00000  0.09178 -0.68248\n",
       "2016-08-01  0.35078  1.00000  0.24036 -0.04651 -0.19460  0.37543 -0.72546\n",
       "2016-09-01  0.76264  0.31519  0.15581  0.81235 -1.00000  0.32931 -0.37530\n",
       "2016-10-01  0.72538 -0.04491  1.00000  0.15327 -0.64138 -0.58480  0.39245\n",
       "2016-11-01  0.74912 -0.50140  0.48797  0.29337 -0.02906 -1.00000  1.00000\n",
       "2016-12-01  0.54806  0.09741  0.02336 -0.16875 -0.14582 -0.35425  1.00000"
      ]
     },
     "execution_count": 17,
     "metadata": {},
     "output_type": "execute_result"
    }
   ],
   "source": [
    "from dateutil.relativedelta import relativedelta\n",
    "from pypfopt import risk_models\n",
    "from pypfopt import expected_returns\n",
    "from pypfopt.efficient_frontier import EfficientFrontier\n",
    "\n",
    "start = dfPrice.index[1]\n",
    "dateNeeded = str(dfPrice.index[-1].year)+'-'+str(dfPrice.index[-1].month-2)+'-01'\n",
    "startEnd = pd.to_datetime(dateNeeded)\n",
    "\n",
    "dictWeight = {}\n",
    "\n",
    "while start != startEnd:\n",
    "    end = start+relativedelta(months=3)\n",
    "    pricesLookBack = dfPrice[start:end]\n",
    "    \n",
    "    mu = expected_returns.mean_historical_return(pricesLookBack)\n",
    "    sigma = risk_models.sample_cov(pricesLookBack)\n",
    "    ef = EfficientFrontier(mu, sigma, weight_bounds=(-1,1))\n",
    "    weights = ef.max_sharpe()\n",
    "    cleanWeights = ef.clean_weights()\n",
    "\n",
    "    dictWeight[end] = list(cleanWeights.values())\n",
    "\n",
    "    start = start+relativedelta(months=1)\n",
    "\n",
    "print(\"Optimal Weights by Month\")\n",
    "pd.DataFrame.from_dict(dictWeight, orient= 'index', columns = tickers)\n",
    "\n"
   ]
  },
  {
   "cell_type": "markdown",
   "metadata": {},
   "source": [
    "# Question 4: Git Stats\n",
    "\n",
    "**Assume you have a Python project, which source code is under a git repo folder “my-python-project”. Write a program/script to produce the following statistics of this folder**\n",
    "\n",
    "The first thing I did was to make a repo called 'my-python-project'. Then, I used the git package to clone the repo via its url and assign the name 'my-python-project' to it."
   ]
  },
  {
   "cell_type": "code",
   "execution_count": 19,
   "metadata": {},
   "outputs": [
    {
     "data": {
      "text/plain": [
       "<git.repo.base.Repo '/Users/sonakshirohra/Desktop/QAM/treehouse-finance-test/my-python-project/.git'>"
      ]
     },
     "execution_count": 19,
     "metadata": {},
     "output_type": "execute_result"
    }
   ],
   "source": [
    "from git import Repo\n",
    "Repo.clone_from(\"https://github.com/infinityandacrylic/my-python-project\", 'my-python-project')"
   ]
  },
  {
   "cell_type": "markdown",
   "metadata": {},
   "source": [
    "**a. How many python files**\n",
    "\n",
    "I iterate over directory paths, directory names and filenames. Firstly I want to seperate git files since those inbuilt git files. The easiest way to check if a file is a python file or not is if it has the extension '.py', and so I check for filenames which contain the string '.py' and if they do, I append them into a list f along with its full location: dirpath/filename. \n",
    "\n",
    "This will make the next question easier when I want to find number of lines of code and things like that.\n",
    "\n",
    "The number of python files is just the number of items in the list f. "
   ]
  },
  {
   "cell_type": "code",
   "execution_count": null,
   "metadata": {},
   "outputs": [
    {
     "name": "stdout",
     "output_type": "stream",
     "text": [
      "Number of python files in my-python-project:  3\n"
     ]
    }
   ],
   "source": [
    "from os import walk\n",
    "\n",
    "f = []\n",
    "for (dirpath, dirnames, filenames) in walk('my-python-project'):\n",
    "    if \".git\" not in dirpath:\n",
    "        for item in filenames:\n",
    "            if '.py' in item:\n",
    "                f.append(dirpath+\"/\"+item)\n",
    "\n",
    "nopyfile = len(f)\n",
    "\n",
    "print(\"Number of python files in my-python-project: \", nopyfile)"
   ]
  },
  {
   "cell_type": "markdown",
   "metadata": {},
   "source": [
    "**b. How many lines of code in total, how many lines of comment line (empty line doesn’t count)**\n",
    "\n",
    "since I have my file location for all python files in the list f, I can iterate over f and open each item, use the $.readlines()$ function to create a list, $lines$ which contains all lines of code as elements. I then use $.strip()$ to get rid of the $\\n$ and whitespace in the lines. However, now my empty lines will leave behind a ' ' in the list, and so i iterate over lines again and select all elements except ' '.\n",
    "\n",
    "The length of this list will give me the total number of lines of code in each item, summing over which will give me total lines of code in the repo.\n",
    "\n",
    "Similarly, I look for those elements with a hash '#' in them, sum over the length of these lists to give the total comments in the repo.\n",
    "\n",
    "Similar logic with functions where I look for elements with the string $def$."
   ]
  },
  {
   "cell_type": "code",
   "execution_count": null,
   "metadata": {},
   "outputs": [
    {
     "name": "stdout",
     "output_type": "stream",
     "text": [
      "Lines of code in total:  23\n",
      "Comment Lines in total:  7\n"
     ]
    }
   ],
   "source": [
    "total = []\n",
    "cc = []\n",
    "fc = []\n",
    "\n",
    "for item in f:\n",
    "\n",
    "    with open(item) as l:\n",
    "        lines = l.readlines()\n",
    "    lines = [line.strip() for line in lines]\n",
    "    lines = [line for line in lines if line != '']\n",
    "    total.append(len(lines))\n",
    "\n",
    "    comments = [comment for comment in lines if '#' in comment]\n",
    "    cc.append(len(comments))\n",
    "\n",
    "    functions = [func for func in lines if 'def' in func]\n",
    "    fc.append(len(functions))\n",
    "\n",
    "noOfLines = sum(total)\n",
    "print('Lines of code in total: ', noOfLines)\n",
    "\n",
    "noOfComments = sum(cc)\n",
    "print('Comment Lines in total: ', noOfComments)\n"
   ]
  },
  {
   "cell_type": "markdown",
   "metadata": {},
   "source": [
    "**c. How many functions is defined in total**"
   ]
  },
  {
   "cell_type": "code",
   "execution_count": null,
   "metadata": {},
   "outputs": [
    {
     "name": "stdout",
     "output_type": "stream",
     "text": [
      "Total number of functions:  4\n"
     ]
    }
   ],
   "source": [
    "noOfFunctions = sum(fc)\n",
    "print('Total number of functions: ', noOfFunctions)"
   ]
  },
  {
   "cell_type": "markdown",
   "metadata": {},
   "source": [
    "**d. How many lines of changes from the current version against HEAD~3**"
   ]
  },
  {
   "cell_type": "markdown",
   "metadata": {},
   "source": [
    "**e. Total folder size (in MB) per each of the subfolder (down to 2 level depth)**"
   ]
  },
  {
   "cell_type": "markdown",
   "metadata": {},
   "source": []
  }
 ],
 "metadata": {
  "interpreter": {
   "hash": "d9542f6d2a733f76b77b9a688b98118086f65c77e5093bd6ef3ddcffeca637f9"
  },
  "kernelspec": {
   "display_name": "Python 3.8.5 64-bit ('base': conda)",
   "name": "python3"
  },
  "language_info": {
   "codemirror_mode": {
    "name": "ipython",
    "version": 3
   },
   "file_extension": ".py",
   "mimetype": "text/x-python",
   "name": "python",
   "nbconvert_exporter": "python",
   "pygments_lexer": "ipython3",
   "version": "3.8.5"
  }
 },
 "nbformat": 4,
 "nbformat_minor": 4
}
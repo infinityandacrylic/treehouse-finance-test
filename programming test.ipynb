{
 "cells": [
  {
   "cell_type": "markdown",
   "metadata": {},
   "source": [
    "# Take-home Programming Test\n"
   ]
  },
  {
   "cell_type": "markdown",
   "metadata": {},
   "source": [
    "# Question 3: Pascal's Triangle\n",
    "\n",
    "The best way to understand Pascal's triangle is by Binomial Theorem: i.e. the coefficients of $(a+b)^n$ gives the $n^{th}$ row of the triangle.\n",
    "\n",
    "From binomial theorem, $$(a+b)^n = \\sum_{r=1}^{n} {n\\choose r} a^r b^{n-r}$$\n",
    "\n",
    "Thus the coefficients are $n\\choose r$ for $r = 1,2, \\dots n.$\n",
    "\n",
    "Let's create a function nCr which gives $n\\choose r = \\frac{n!}{r! (n-r)!}$. Since negative factorial is not defined, $n - r \\geq 0$ or $n \\geq r$. Thus, we raise a value error if $n \\leq r$.\n",
    "\n",
    "next we define pascal which takes in an integer n, or the number of rows of the pascal's triangle we would like to print. we iterate through $1$ to $(n+1)$ because for the $n$ layers, we have $(n+1)$ rows. Similarly, for the $k^{th}$ row, we have $k+1$ elements.\n",
    "\n",
    "For each row k, we print ${k\\choose r}$ with $r = 0,1,2, \\dots k$. This gives us the $k^{th}$ row of the Pascal's Triangle.\n",
    "\n",
    "print a blank after each row iteration to move to the next line after each $'k'$\n",
    "\n",
    "Attempt 1"
   ]
  },
  {
   "cell_type": "code",
   "execution_count": 20,
   "metadata": {},
   "outputs": [
    {
     "name": "stdout",
     "output_type": "stream",
     "text": [
      "1 \n",
      "1 1 \n",
      "1 2 1 \n",
      "1 3 3 1 \n",
      "1 4 6 4 1 \n",
      "1 5 10 10 5 1 \n"
     ]
    }
   ],
   "source": [
    "from math import factorial\n",
    "\n",
    "def nCr(n,r):\n",
    "    if n < r:\n",
    "        return ('Value Error. n cannot be lesser than r')\n",
    "    else:\n",
    "        return int(factorial(n) / (factorial(r)*factorial(n-r)))\n",
    "\n",
    "\n",
    "def pascal(n):\n",
    "    for k in range(n+1):\n",
    "        for r in range(k+1):\n",
    "        #print(k)\n",
    "            print(nCr(k,r), end = \" \")\n",
    "        print()\n",
    "\n",
    "pascal(5)"
   ]
  },
  {
   "cell_type": "markdown",
   "metadata": {},
   "source": [
    "Pascal's triangle can be looked at as a recursive problem, because if you have the previous row, you take the sum of each pair to get the current row. base case 0 is 1, base case 1 is (1,1). However, the run time for this is going to be much much slower as n increases. "
   ]
  }
 ],
 "metadata": {
  "interpreter": {
   "hash": "d9542f6d2a733f76b77b9a688b98118086f65c77e5093bd6ef3ddcffeca637f9"
  },
  "kernelspec": {
   "display_name": "Python 3.8.5 64-bit ('base': conda)",
   "name": "python3"
  },
  "language_info": {
   "codemirror_mode": {
    "name": "ipython",
    "version": 3
   },
   "file_extension": ".py",
   "mimetype": "text/x-python",
   "name": "python",
   "nbconvert_exporter": "python",
   "pygments_lexer": "ipython3",
   "version": "3.8.5"
  }
 },
 "nbformat": 4,
 "nbformat_minor": 4
}
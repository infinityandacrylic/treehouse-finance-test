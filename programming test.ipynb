{
 "cells": [
  {
   "cell_type": "markdown",
   "metadata": {},
   "source": [
    "# Take-home Programming Test\n"
   ]
  },
  {
   "cell_type": "markdown",
   "metadata": {},
   "source": [
    "# Question 3: Pascal's Triangle\n",
    "\n",
    "The best way to understand Pascal's triangle is by Binomial Theorem: i.e. the coefficients of $(a+b)^n$ gives the $n^{th}$ row of the triangle.\n",
    "\n",
    "From binomial theorem, $$(a+b)^n = \\sum_{r=1}^{n} {n\\choose r} a^r b^{n-r}$$\n",
    "\n",
    "Thus the coefficients are $n\\choose r$ for $r = 1,2, \\dots n.$\n",
    "\n",
    "Let's create a function nCr which gives $n\\choose r = \\frac{n!}{r! (n-r)!}$. Since negative factorial is not defined, $n - r \\geq 0$ or $n \\geq r$. Thus, we raise a value error if $n \\leq r$.\n",
    "\n",
    "next we define pascal which takes in an integer n, or the row number of the pascal's triangle we would like to print. we iterate through $n+1$ because for the $k^{th}$ row, we have $(k+1)$ elements. \n",
    "\n",
    "For each r, we print $n\\choose r$. This gives us the $n^th$ row of the Pascal's Triangle.\n",
    "\n",
    "Attempt 1"
   ]
  },
  {
   "cell_type": "code",
   "execution_count": 17,
   "metadata": {},
   "outputs": [
    {
     "name": "stdout",
     "output_type": "stream",
     "text": [
      "1 50 1225 19600 230300 2118760 15890700 99884400 536878650 2505433700 10272278170 37353738800 121399651100 354860518600 937845656300 2250829575120 4923689695575 9847379391150 18053528883775 30405943383200 47129212243960 67327446062800 88749815264600 108043253365600 121548660036300 126410606437752 121548660036300 108043253365600 88749815264600 67327446062800 47129212243960 30405943383200 18053528883775 9847379391150 4923689695575 2250829575120 937845656300 354860518600 121399651100 37353738800 10272278170 2505433700 536878650 99884400 15890700 2118760 230300 19600 1225 50 1 "
     ]
    }
   ],
   "source": [
    "from math import factorial\n",
    "\n",
    "def nCr(n,r):\n",
    "    if n < r:\n",
    "        return ('Value Error. n cannot be lesser than r')\n",
    "    else:\n",
    "        return int(factorial(n) / (factorial(r)*factorial(n-r)))\n",
    "\n",
    "\n",
    "def pascal(n):\n",
    "    for r in range(n+1):\n",
    "        #print(k)\n",
    "        print(nCr(n,r), end = \" \")\n",
    "\n",
    "pascal(50)"
   ]
  },
  {
   "cell_type": "markdown",
   "metadata": {},
   "source": [
    "Pascal's triangle can be looked at as a recursive problem, because if you have the previous row, you take the sum of each pair to get the current row. base case 0 is 1, base case 1 is (1,1). However, the run time for this is going to be much much slower as n increases. "
   ]
  }
 ],
 "metadata": {
  "interpreter": {
   "hash": "d9542f6d2a733f76b77b9a688b98118086f65c77e5093bd6ef3ddcffeca637f9"
  },
  "kernelspec": {
   "display_name": "Python 3.8.5 64-bit ('base': conda)",
   "name": "python3"
  },
  "language_info": {
   "codemirror_mode": {
    "name": "ipython",
    "version": 3
   },
   "file_extension": ".py",
   "mimetype": "text/x-python",
   "name": "python",
   "nbconvert_exporter": "python",
   "pygments_lexer": "ipython3",
   "version": "3.8.5"
  }
 },
 "nbformat": 4,
 "nbformat_minor": 4
}
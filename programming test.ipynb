{
 "cells": [
  {
   "cell_type": "markdown",
   "metadata": {},
   "source": [
    "# Take-home Programming Test\n"
   ]
  },
  {
   "cell_type": "markdown",
   "metadata": {},
   "source": [
    "# Question 2\n",
    "\n",
    "**Write a function ‘exists’ which takes a variable symbol v and returns whether v is defined**\n",
    "\n",
    "what these symbols could be:\n",
    "* integer\n",
    "* float\n",
    "* text\n",
    "* boolean\n",
    "* tuple\n",
    "* list\n",
    "* dict\n",
    "\n",
    "the function below does a simple check for the type of the variable. If the type is from the list above, it returns the string defined. If not, it returns undefined."
   ]
  },
  {
   "cell_type": "code",
   "execution_count": 82,
   "metadata": {},
   "outputs": [
    {
     "data": {
      "text/plain": [
       "'defined'"
      ]
     },
     "execution_count": 82,
     "metadata": {},
     "output_type": "execute_result"
    }
   ],
   "source": [
    "def exists(v):\n",
    "    if type(v) in [int, float, str, bool, tuple, list, dict]:\n",
    "        return 'defined'\n",
    "    else:\n",
    "        return 'undefined'\n",
    "\n",
    "exists(5.6)"
   ]
  },
  {
   "cell_type": "markdown",
   "metadata": {},
   "source": [
    "But this is an 'exhaustive' method. This will not work with self created data structures, for example: something like a linked list."
   ]
  },
  {
   "cell_type": "markdown",
   "metadata": {},
   "source": [
    "# Question 3: Pascal's Triangle\n",
    "\n",
    "The best way to understand Pascal's triangle is by Binomial Theorem: i.e. the coefficients of $(a+b)^n$ gives the $n^{th}$ row of the triangle.\n",
    "\n",
    "From binomial theorem, $$(a+b)^n = \\sum_{r=1}^{n} {n\\choose r} a^r b^{n-r}$$\n",
    "\n",
    "Thus the coefficients are $n\\choose r$ for $r = 1,2, \\dots n.$\n",
    "\n",
    "Let's create a function nCr which gives $n\\choose r = \\frac{n!}{r! (n-r)!}$. Since negative factorial is not defined, $n - r \\geq 0$ or $n \\geq r$. Thus, we raise a value error if $n \\leq r$.\n",
    "\n",
    "next we define pascal which takes in an integer n, or the number of rows of the pascal's triangle we would like to print. we iterate through $1$ to $(n+1)$ because for the $n$ layers, we have $(n+1)$ rows. Similarly, for the $k^{th}$ row, we have $k+1$ elements.\n",
    "\n",
    "For each row k, we print ${k\\choose r}$ with $r = 0,1,2, \\dots k$. This gives us the $k^{th}$ row of the Pascal's Triangle.\n",
    "\n",
    "print a blank after each row iteration to move to the next line after each $'k'$\n",
    "\n",
    "Attempt 1"
   ]
  },
  {
   "cell_type": "code",
   "execution_count": 20,
   "metadata": {},
   "outputs": [
    {
     "name": "stdout",
     "output_type": "stream",
     "text": [
      "1 \n",
      "1 1 \n",
      "1 2 1 \n",
      "1 3 3 1 \n",
      "1 4 6 4 1 \n",
      "1 5 10 10 5 1 \n"
     ]
    }
   ],
   "source": [
    "from math import factorial\n",
    "\n",
    "def nCr(n,r):\n",
    "    if n < r:\n",
    "        return ('Value Error. n cannot be lesser than r')\n",
    "    else:\n",
    "        return int(factorial(n) / (factorial(r)*factorial(n-r)))\n",
    "\n",
    "\n",
    "def pascal(n):\n",
    "    for k in range(n+1):\n",
    "        for r in range(k+1):\n",
    "        #print(k)\n",
    "            print(nCr(k,r), end = \" \")\n",
    "        print()\n",
    "\n",
    "pascal(5)"
   ]
  },
  {
   "cell_type": "markdown",
   "metadata": {},
   "source": [
    "Pascal's triangle can be looked at as a recursive problem, because if you have the previous row, you take the sum of each pair to get the current row. base case 0 is 1, base case 1 is (1,1). However, the run time for this is going to be much much slower as n increases. "
   ]
  },
  {
   "cell_type": "code",
   "execution_count": 52,
   "metadata": {},
   "outputs": [
    {
     "ename": "RecursionError",
     "evalue": "maximum recursion depth exceeded in comparison",
     "output_type": "error",
     "traceback": [
      "\u001b[0;31m---------------------------------------------------------------------------\u001b[0m",
      "\u001b[0;31mRecursionError\u001b[0m                            Traceback (most recent call last)",
      "\u001b[0;32m<ipython-input-52-baf994445671>\u001b[0m in \u001b[0;36m<module>\u001b[0;34m\u001b[0m\n\u001b[1;32m     10\u001b[0m         \u001b[0ml\u001b[0m\u001b[0;34m.\u001b[0m\u001b[0mappend\u001b[0m\u001b[0;34m(\u001b[0m\u001b[0;36m1\u001b[0m\u001b[0;34m)\u001b[0m\u001b[0;34m\u001b[0m\u001b[0;34m\u001b[0m\u001b[0m\n\u001b[1;32m     11\u001b[0m \u001b[0;34m\u001b[0m\u001b[0m\n\u001b[0;32m---> 12\u001b[0;31m \u001b[0mpascallist\u001b[0m\u001b[0;34m(\u001b[0m\u001b[0;36m2\u001b[0m\u001b[0;34m)\u001b[0m\u001b[0;34m\u001b[0m\u001b[0;34m\u001b[0m\u001b[0m\n\u001b[0m",
      "\u001b[0;32m<ipython-input-52-baf994445671>\u001b[0m in \u001b[0;36mpascallist\u001b[0;34m(k)\u001b[0m\n\u001b[1;32m      7\u001b[0m         \u001b[0ml\u001b[0m \u001b[0;34m=\u001b[0m \u001b[0;34m[\u001b[0m\u001b[0;36m1\u001b[0m\u001b[0;34m]\u001b[0m\u001b[0;34m\u001b[0m\u001b[0;34m\u001b[0m\u001b[0m\n\u001b[1;32m      8\u001b[0m         \u001b[0;32mfor\u001b[0m \u001b[0mi\u001b[0m \u001b[0;32min\u001b[0m \u001b[0mrange\u001b[0m\u001b[0;34m(\u001b[0m\u001b[0mk\u001b[0m\u001b[0;34m+\u001b[0m\u001b[0;36m1\u001b[0m\u001b[0;34m)\u001b[0m\u001b[0;34m:\u001b[0m\u001b[0;34m\u001b[0m\u001b[0;34m\u001b[0m\u001b[0m\n\u001b[0;32m----> 9\u001b[0;31m             \u001b[0ml\u001b[0m\u001b[0;34m.\u001b[0m\u001b[0mappend\u001b[0m\u001b[0;34m(\u001b[0m\u001b[0mpascallist\u001b[0m\u001b[0;34m(\u001b[0m\u001b[0mi\u001b[0m\u001b[0;34m)\u001b[0m \u001b[0;34m+\u001b[0m \u001b[0mpascallist\u001b[0m\u001b[0;34m(\u001b[0m\u001b[0mi\u001b[0m\u001b[0;34m+\u001b[0m\u001b[0;36m1\u001b[0m\u001b[0;34m)\u001b[0m\u001b[0;34m)\u001b[0m\u001b[0;34m\u001b[0m\u001b[0;34m\u001b[0m\u001b[0m\n\u001b[0m\u001b[1;32m     10\u001b[0m         \u001b[0ml\u001b[0m\u001b[0;34m.\u001b[0m\u001b[0mappend\u001b[0m\u001b[0;34m(\u001b[0m\u001b[0;36m1\u001b[0m\u001b[0;34m)\u001b[0m\u001b[0;34m\u001b[0m\u001b[0;34m\u001b[0m\u001b[0m\n\u001b[1;32m     11\u001b[0m \u001b[0;34m\u001b[0m\u001b[0m\n",
      "... last 1 frames repeated, from the frame below ...\n",
      "\u001b[0;32m<ipython-input-52-baf994445671>\u001b[0m in \u001b[0;36mpascallist\u001b[0;34m(k)\u001b[0m\n\u001b[1;32m      7\u001b[0m         \u001b[0ml\u001b[0m \u001b[0;34m=\u001b[0m \u001b[0;34m[\u001b[0m\u001b[0;36m1\u001b[0m\u001b[0;34m]\u001b[0m\u001b[0;34m\u001b[0m\u001b[0;34m\u001b[0m\u001b[0m\n\u001b[1;32m      8\u001b[0m         \u001b[0;32mfor\u001b[0m \u001b[0mi\u001b[0m \u001b[0;32min\u001b[0m \u001b[0mrange\u001b[0m\u001b[0;34m(\u001b[0m\u001b[0mk\u001b[0m\u001b[0;34m+\u001b[0m\u001b[0;36m1\u001b[0m\u001b[0;34m)\u001b[0m\u001b[0;34m:\u001b[0m\u001b[0;34m\u001b[0m\u001b[0;34m\u001b[0m\u001b[0m\n\u001b[0;32m----> 9\u001b[0;31m             \u001b[0ml\u001b[0m\u001b[0;34m.\u001b[0m\u001b[0mappend\u001b[0m\u001b[0;34m(\u001b[0m\u001b[0mpascallist\u001b[0m\u001b[0;34m(\u001b[0m\u001b[0mi\u001b[0m\u001b[0;34m)\u001b[0m \u001b[0;34m+\u001b[0m \u001b[0mpascallist\u001b[0m\u001b[0;34m(\u001b[0m\u001b[0mi\u001b[0m\u001b[0;34m+\u001b[0m\u001b[0;36m1\u001b[0m\u001b[0;34m)\u001b[0m\u001b[0;34m)\u001b[0m\u001b[0;34m\u001b[0m\u001b[0;34m\u001b[0m\u001b[0m\n\u001b[0m\u001b[1;32m     10\u001b[0m         \u001b[0ml\u001b[0m\u001b[0;34m.\u001b[0m\u001b[0mappend\u001b[0m\u001b[0;34m(\u001b[0m\u001b[0;36m1\u001b[0m\u001b[0;34m)\u001b[0m\u001b[0;34m\u001b[0m\u001b[0;34m\u001b[0m\u001b[0m\n\u001b[1;32m     11\u001b[0m \u001b[0;34m\u001b[0m\u001b[0m\n",
      "\u001b[0;31mRecursionError\u001b[0m: maximum recursion depth exceeded in comparison"
     ]
    }
   ],
   "source": [
    "def pascallist(k):\n",
    "    if k == 0:\n",
    "        return [1]\n",
    "    elif k == 1:\n",
    "        return [1, 1]\n",
    "    else: \n",
    "        l = [1]  \n",
    "        for i in range(k+1):\n",
    "            l.append(pascallist(i) + pascallist(i+1))\n",
    "        l.append(1)        \n",
    "    \n",
    "pascallist(2)"
   ]
  },
  {
   "cell_type": "markdown",
   "metadata": {},
   "source": [
    "I tried implementing a recursive pascal's triange but it gives me a maximum recursion depth exceeded for small numbers. I'll just come back to this in a while"
   ]
  },
  {
   "cell_type": "markdown",
   "metadata": {},
   "source": [
    "# Question 4: Portfolio Optimisation, VaR\n",
    "\n",
    "**Assume have the following portfolio as of 2016/01/01:** \n",
    "\n",
    "\n",
    "\n",
    "**AAPL.O 15%**\n",
    "\n",
    "**IBM.N 20%**\n",
    "\n",
    "**GOOG.O 20%** \n",
    "\n",
    "**BP.N 15%** \n",
    "\n",
    "**XOM.N 10%**\n",
    "\n",
    "**COST.O 15%** \n",
    "\n",
    "**GS.N 5%**\n",
    "\n",
    "\n",
    "**a. Using historical daily returns (Yahoo/Google Finance or any other market data source), calculate VaR95% and CVaR95% of the portfolio as of 2016/12/31**"
   ]
  },
  {
   "cell_type": "code",
   "execution_count": 84,
   "metadata": {},
   "outputs": [],
   "source": [
    "import pandas as pd\n",
    "import pandas_datareader as dr"
   ]
  },
  {
   "cell_type": "markdown",
   "metadata": {},
   "source": [
    "turns out yahoo finance doesn't read extensions and i'm not sure how to bypass this so I'm going to input the main ticker first: i.e. instead of AAPL.O, i'll use AAPL for now"
   ]
  },
  {
   "cell_type": "code",
   "execution_count": 92,
   "metadata": {},
   "outputs": [
    {
     "data": {
      "text/html": [
       "<div>\n",
       "<style scoped>\n",
       "    .dataframe tbody tr th:only-of-type {\n",
       "        vertical-align: middle;\n",
       "    }\n",
       "\n",
       "    .dataframe tbody tr th {\n",
       "        vertical-align: top;\n",
       "    }\n",
       "\n",
       "    .dataframe thead th {\n",
       "        text-align: right;\n",
       "    }\n",
       "</style>\n",
       "<table border=\"1\" class=\"dataframe\">\n",
       "  <thead>\n",
       "    <tr style=\"text-align: right;\">\n",
       "      <th></th>\n",
       "      <th>AAPL</th>\n",
       "      <th>IBM</th>\n",
       "      <th>GOOG</th>\n",
       "      <th>BP</th>\n",
       "      <th>XOM</th>\n",
       "      <th>COST</th>\n",
       "      <th>GS</th>\n",
       "    </tr>\n",
       "    <tr>\n",
       "      <th>Date</th>\n",
       "      <th></th>\n",
       "      <th></th>\n",
       "      <th></th>\n",
       "      <th></th>\n",
       "      <th></th>\n",
       "      <th></th>\n",
       "      <th></th>\n",
       "    </tr>\n",
       "  </thead>\n",
       "  <tbody>\n",
       "    <tr>\n",
       "      <th>2015-12-31</th>\n",
       "      <td>24.266081</td>\n",
       "      <td>106.805664</td>\n",
       "      <td>758.880005</td>\n",
       "      <td>21.524876</td>\n",
       "      <td>58.759171</td>\n",
       "      <td>142.766663</td>\n",
       "      <td>164.204666</td>\n",
       "    </tr>\n",
       "    <tr>\n",
       "      <th>2016-01-04</th>\n",
       "      <td>24.286833</td>\n",
       "      <td>105.509605</td>\n",
       "      <td>741.840027</td>\n",
       "      <td>21.387156</td>\n",
       "      <td>58.389812</td>\n",
       "      <td>141.034027</td>\n",
       "      <td>161.389420</td>\n",
       "    </tr>\n",
       "    <tr>\n",
       "      <th>2016-01-05</th>\n",
       "      <td>23.678219</td>\n",
       "      <td>105.432014</td>\n",
       "      <td>742.580017</td>\n",
       "      <td>21.297642</td>\n",
       "      <td>58.887341</td>\n",
       "      <td>141.378769</td>\n",
       "      <td>158.610535</td>\n",
       "    </tr>\n",
       "    <tr>\n",
       "      <th>2016-01-06</th>\n",
       "      <td>23.214844</td>\n",
       "      <td>104.904251</td>\n",
       "      <td>743.619995</td>\n",
       "      <td>20.863838</td>\n",
       "      <td>58.397354</td>\n",
       "      <td>140.070480</td>\n",
       "      <td>154.738495</td>\n",
       "    </tr>\n",
       "    <tr>\n",
       "      <th>2016-01-07</th>\n",
       "      <td>22.235069</td>\n",
       "      <td>103.111481</td>\n",
       "      <td>726.390015</td>\n",
       "      <td>20.264778</td>\n",
       "      <td>57.462631</td>\n",
       "      <td>136.861542</td>\n",
       "      <td>149.982651</td>\n",
       "    </tr>\n",
       "  </tbody>\n",
       "</table>\n",
       "</div>"
      ],
      "text/plain": [
       "                 AAPL         IBM        GOOG         BP        XOM  \\\n",
       "Date                                                                  \n",
       "2015-12-31  24.266081  106.805664  758.880005  21.524876  58.759171   \n",
       "2016-01-04  24.286833  105.509605  741.840027  21.387156  58.389812   \n",
       "2016-01-05  23.678219  105.432014  742.580017  21.297642  58.887341   \n",
       "2016-01-06  23.214844  104.904251  743.619995  20.863838  58.397354   \n",
       "2016-01-07  22.235069  103.111481  726.390015  20.264778  57.462631   \n",
       "\n",
       "                  COST          GS  \n",
       "Date                                \n",
       "2015-12-31  142.766663  164.204666  \n",
       "2016-01-04  141.034027  161.389420  \n",
       "2016-01-05  141.378769  158.610535  \n",
       "2016-01-06  140.070480  154.738495  \n",
       "2016-01-07  136.861542  149.982651  "
      ]
     },
     "execution_count": 92,
     "metadata": {},
     "output_type": "execute_result"
    }
   ],
   "source": [
    "tickers = ['AAPL', 'IBM', 'GOOG', 'BP', 'XOM', 'COST', 'GS']\n",
    "l = len(tickers)\n",
    "priceData = []\n",
    "\n",
    "for ticker in range(l):\n",
    "    prices = dr.DataReader(tickers[ticker], start = '2016-01-01', end = '2016-12-31', data_source = 'yahoo')\n",
    "    priceData.append(prices.assign(ticker=ticker)[['Adj Close']])\n",
    "dfPrice = pd.concat(priceData, axis = 1)\n",
    "dfPrice.columns = tickers\n",
    "dfPrice.dropna()\n",
    "dfPrice.head()"
   ]
  },
  {
   "cell_type": "code",
   "execution_count": 95,
   "metadata": {},
   "outputs": [
    {
     "data": {
      "text/html": [
       "<div>\n",
       "<style scoped>\n",
       "    .dataframe tbody tr th:only-of-type {\n",
       "        vertical-align: middle;\n",
       "    }\n",
       "\n",
       "    .dataframe tbody tr th {\n",
       "        vertical-align: top;\n",
       "    }\n",
       "\n",
       "    .dataframe thead th {\n",
       "        text-align: right;\n",
       "    }\n",
       "</style>\n",
       "<table border=\"1\" class=\"dataframe\">\n",
       "  <thead>\n",
       "    <tr style=\"text-align: right;\">\n",
       "      <th></th>\n",
       "      <th>AAPL</th>\n",
       "      <th>IBM</th>\n",
       "      <th>GOOG</th>\n",
       "      <th>BP</th>\n",
       "      <th>XOM</th>\n",
       "      <th>COST</th>\n",
       "      <th>GS</th>\n",
       "    </tr>\n",
       "    <tr>\n",
       "      <th>Date</th>\n",
       "      <th></th>\n",
       "      <th></th>\n",
       "      <th></th>\n",
       "      <th></th>\n",
       "      <th></th>\n",
       "      <th></th>\n",
       "      <th></th>\n",
       "    </tr>\n",
       "  </thead>\n",
       "  <tbody>\n",
       "    <tr>\n",
       "      <th>2015-12-31</th>\n",
       "      <td>NaN</td>\n",
       "      <td>NaN</td>\n",
       "      <td>NaN</td>\n",
       "      <td>NaN</td>\n",
       "      <td>NaN</td>\n",
       "      <td>NaN</td>\n",
       "      <td>NaN</td>\n",
       "    </tr>\n",
       "    <tr>\n",
       "      <th>2016-01-04</th>\n",
       "      <td>0.000855</td>\n",
       "      <td>-0.012135</td>\n",
       "      <td>-0.022454</td>\n",
       "      <td>-0.006398</td>\n",
       "      <td>-0.006286</td>\n",
       "      <td>-0.012136</td>\n",
       "      <td>-0.017145</td>\n",
       "    </tr>\n",
       "    <tr>\n",
       "      <th>2016-01-05</th>\n",
       "      <td>-0.025059</td>\n",
       "      <td>-0.000735</td>\n",
       "      <td>0.000998</td>\n",
       "      <td>-0.004185</td>\n",
       "      <td>0.008521</td>\n",
       "      <td>0.002444</td>\n",
       "      <td>-0.017219</td>\n",
       "    </tr>\n",
       "    <tr>\n",
       "      <th>2016-01-06</th>\n",
       "      <td>-0.019570</td>\n",
       "      <td>-0.005006</td>\n",
       "      <td>0.001400</td>\n",
       "      <td>-0.020369</td>\n",
       "      <td>-0.008321</td>\n",
       "      <td>-0.009254</td>\n",
       "      <td>-0.024412</td>\n",
       "    </tr>\n",
       "    <tr>\n",
       "      <th>2016-01-07</th>\n",
       "      <td>-0.042205</td>\n",
       "      <td>-0.017090</td>\n",
       "      <td>-0.023170</td>\n",
       "      <td>-0.028713</td>\n",
       "      <td>-0.016006</td>\n",
       "      <td>-0.022909</td>\n",
       "      <td>-0.030735</td>\n",
       "    </tr>\n",
       "  </tbody>\n",
       "</table>\n",
       "</div>"
      ],
      "text/plain": [
       "                AAPL       IBM      GOOG        BP       XOM      COST  \\\n",
       "Date                                                                     \n",
       "2015-12-31       NaN       NaN       NaN       NaN       NaN       NaN   \n",
       "2016-01-04  0.000855 -0.012135 -0.022454 -0.006398 -0.006286 -0.012136   \n",
       "2016-01-05 -0.025059 -0.000735  0.000998 -0.004185  0.008521  0.002444   \n",
       "2016-01-06 -0.019570 -0.005006  0.001400 -0.020369 -0.008321 -0.009254   \n",
       "2016-01-07 -0.042205 -0.017090 -0.023170 -0.028713 -0.016006 -0.022909   \n",
       "\n",
       "                  GS  \n",
       "Date                  \n",
       "2015-12-31       NaN  \n",
       "2016-01-04 -0.017145  \n",
       "2016-01-05 -0.017219  \n",
       "2016-01-06 -0.024412  \n",
       "2016-01-07 -0.030735  "
      ]
     },
     "execution_count": 95,
     "metadata": {},
     "output_type": "execute_result"
    }
   ],
   "source": [
    "dfReturn = dfPrice.pct_change()\n",
    "dfReturn.dropna()\n",
    "dfReturn.head()"
   ]
  },
  {
   "cell_type": "code",
   "execution_count": 98,
   "metadata": {},
   "outputs": [
    {
     "ename": "ModuleNotFoundError",
     "evalue": "No module named 'empyrical'",
     "output_type": "error",
     "traceback": [
      "\u001b[0;31m---------------------------------------------------------------------------\u001b[0m",
      "\u001b[0;31mModuleNotFoundError\u001b[0m                       Traceback (most recent call last)",
      "\u001b[0;32m<ipython-input-98-328ee5763fcf>\u001b[0m in \u001b[0;36m<module>\u001b[0;34m\u001b[0m\n\u001b[0;32m----> 1\u001b[0;31m \u001b[0;32mimport\u001b[0m \u001b[0mempyrical\u001b[0m\u001b[0;34m\u001b[0m\u001b[0;34m\u001b[0m\u001b[0m\n\u001b[0m",
      "\u001b[0;31mModuleNotFoundError\u001b[0m: No module named 'empyrical'"
     ]
    }
   ],
   "source": [
    "import empyrical"
   ]
  },
  {
   "cell_type": "code",
   "execution_count": null,
   "metadata": {},
   "outputs": [],
   "source": []
  }
 ],
 "metadata": {
  "interpreter": {
   "hash": "d9542f6d2a733f76b77b9a688b98118086f65c77e5093bd6ef3ddcffeca637f9"
  },
  "kernelspec": {
   "display_name": "Python 3.8.5 64-bit ('base': conda)",
   "name": "python3"
  },
  "language_info": {
   "codemirror_mode": {
    "name": "ipython",
    "version": 3
   },
   "file_extension": ".py",
   "mimetype": "text/x-python",
   "name": "python",
   "nbconvert_exporter": "python",
   "pygments_lexer": "ipython3",
   "version": "3.8.5"
  }
 },
 "nbformat": 4,
 "nbformat_minor": 4
}